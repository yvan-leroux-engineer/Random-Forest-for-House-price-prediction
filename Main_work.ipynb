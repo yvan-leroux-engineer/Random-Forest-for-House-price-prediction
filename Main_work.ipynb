{
 "cells": [
  {
   "cell_type": "markdown",
   "metadata": {},
   "source": [
    "# Librairies"
   ]
  },
  {
   "cell_type": "code",
   "execution_count": 1,
   "metadata": {},
   "outputs": [],
   "source": [
    "import os\n",
    "import pandas as pd\n",
    "import numpy as np\n",
    "from sklearn import preprocessing\n",
    "from sklearn.model_selection import train_test_split\n",
    "from sklearn.ensemble import RandomForestRegressor\n",
    "from matplotlib import pyplot as plt"
   ]
  },
  {
   "cell_type": "markdown",
   "metadata": {},
   "source": [
    "# Objectifs\n",
    "\n",
    "A partir des données de transactions financières, créer un modèle prédictif du prix d’un appartement en fonction au moins des paramètres suivants :\n",
    "- Commune\n",
    "- Superficie\n",
    "- Nombre de pièces\n",
    "- Année de transaction\n",
    "- Voir plus...\n",
    "\n",
    "# Nettoyage de donnée"
   ]
  },
  {
   "cell_type": "code",
   "execution_count": 2,
   "metadata": {},
   "outputs": [
    {
     "name": "stderr",
     "output_type": "stream",
     "text": [
      "C:\\Users\\YLK\\AppData\\Local\\Temp/ipykernel_1344/3446110912.py:3: DtypeWarning: Columns (18,23,24,26,28,30,31,32,33) have mixed types. Specify dtype option on import or set low_memory=False.\n",
      "  df1 = pd.read_csv(file_path, sep='|')\n"
     ]
    },
    {
     "name": "stdout",
     "output_type": "stream",
     "text": [
      "['Code service CH', 'Reference document', '1 Articles CGI', '2 Articles CGI', '3 Articles CGI', '4 Articles CGI', '5 Articles CGI', 'No disposition', 'Date mutation', 'Nature mutation', 'Valeur fonciere', 'No voie', 'B/T/Q', 'Type de voie', 'Code voie', 'Voie', 'Code postal', 'Commune', 'Code departement', 'Code commune', 'Prefixe de section', 'Section', 'No plan', 'No Volume', '1er lot', 'Surface Carrez du 1er lot', '2eme lot', 'Surface Carrez du 2eme lot', '3eme lot', 'Surface Carrez du 3eme lot', '4eme lot', 'Surface Carrez du 4eme lot', '5eme lot', 'Surface Carrez du 5eme lot', 'Nombre de lots', 'Code type local', 'Type local', 'Identifiant local', 'Surface reelle bati', 'Nombre pieces principales', 'Nature culture', 'Nature culture speciale', 'Surface terrain']\n"
     ]
    }
   ],
   "source": [
    "file = os.listdir('./Data')[0]\n",
    "file_path = os.path.join('./Data', file)\n",
    "df1 = pd.read_csv(file_path, sep='|')\n",
    "print(list(df1.columns))\n"
   ]
  },
  {
   "cell_type": "code",
   "execution_count": 3,
   "metadata": {},
   "outputs": [],
   "source": [
    "files = [os.listdir('./Data')][0]\n",
    "columns_type_fills = np.array([\n",
    "    ['Date mutation', np.int16, -1],\n",
    "    ['Commune', 'string', ''],\n",
    "    ['Nature mutation', 'string', ''],\n",
    "    ['Nature culture', 'string', ''],\n",
    "    ['Nombre de lots', np.int8, -1],\n",
    "    ['Nombre pieces principales', np.int8, -1],\n",
    "    ['Surface reelle bati', np.float32, -1],\n",
    "    ['Surface terrain', np.float32, -1],\n",
    "    ['Valeur fonciere', np.float32,  -1]\n",
    "    ])\n",
    "columns,types,fills = [list(columns_type_fills[:,i]) for i in range(columns_type_fills.shape[1])]\n",
    "columns_types = dict(zip(columns,types))\n",
    "df = []\n"
   ]
  },
  {
   "cell_type": "code",
   "execution_count": 4,
   "metadata": {},
   "outputs": [],
   "source": [
    "for file in files:\n",
    "    file_path = os.path.join('./Data', file)\n",
    "    temp_df = pd.read_csv(file_path, sep='|', usecols=columns+['Code type local'])\n",
    "    temp_df = temp_df[temp_df['Code type local'].eq(2.0)]\n",
    "    temp_df['Date mutation'] = temp_df['Date mutation'].str.strip().str[-4:]\n",
    "    temp_df['Valeur fonciere'] = temp_df['Valeur fonciere'].str.replace(',','.')\n",
    "    for column, fill in zip(columns,fills) :\n",
    "        temp_df[column].fillna(fill, inplace=True)\n",
    "    temp_df = temp_df[columns].astype(columns_types)\n",
    "    df.append(temp_df)\n",
    "    \n",
    "big_data = pd.concat(df)"
   ]
  },
  {
   "cell_type": "code",
   "execution_count": 5,
   "metadata": {},
   "outputs": [
    {
     "data": {
      "text/html": [
       "<div>\n",
       "<style scoped>\n",
       "    .dataframe tbody tr th:only-of-type {\n",
       "        vertical-align: middle;\n",
       "    }\n",
       "\n",
       "    .dataframe tbody tr th {\n",
       "        vertical-align: top;\n",
       "    }\n",
       "\n",
       "    .dataframe thead th {\n",
       "        text-align: right;\n",
       "    }\n",
       "</style>\n",
       "<table border=\"1\" class=\"dataframe\">\n",
       "  <thead>\n",
       "    <tr style=\"text-align: right;\">\n",
       "      <th></th>\n",
       "      <th>Date mutation</th>\n",
       "      <th>Commune</th>\n",
       "      <th>Nature mutation</th>\n",
       "      <th>Nature culture</th>\n",
       "      <th>Nombre de lots</th>\n",
       "      <th>Nombre pieces principales</th>\n",
       "      <th>Surface reelle bati</th>\n",
       "      <th>Surface terrain</th>\n",
       "      <th>Valeur fonciere</th>\n",
       "    </tr>\n",
       "  </thead>\n",
       "  <tbody>\n",
       "    <tr>\n",
       "      <th>9</th>\n",
       "      <td>2016</td>\n",
       "      <td>BOURG-EN-BRESSE</td>\n",
       "      <td>Vente</td>\n",
       "      <td></td>\n",
       "      <td>4</td>\n",
       "      <td>2</td>\n",
       "      <td>79.0</td>\n",
       "      <td>-1.0</td>\n",
       "      <td>111700.0</td>\n",
       "    </tr>\n",
       "    <tr>\n",
       "      <th>58</th>\n",
       "      <td>2016</td>\n",
       "      <td>BOURG-EN-BRESSE</td>\n",
       "      <td>Vente</td>\n",
       "      <td></td>\n",
       "      <td>1</td>\n",
       "      <td>5</td>\n",
       "      <td>133.0</td>\n",
       "      <td>-1.0</td>\n",
       "      <td>311700.0</td>\n",
       "    </tr>\n",
       "    <tr>\n",
       "      <th>67</th>\n",
       "      <td>2016</td>\n",
       "      <td>SAINT-DENIS-LES-BOURG</td>\n",
       "      <td>Vente</td>\n",
       "      <td></td>\n",
       "      <td>2</td>\n",
       "      <td>2</td>\n",
       "      <td>42.0</td>\n",
       "      <td>-1.0</td>\n",
       "      <td>65000.0</td>\n",
       "    </tr>\n",
       "    <tr>\n",
       "      <th>79</th>\n",
       "      <td>2016</td>\n",
       "      <td>NEUVILLE-SUR-AIN</td>\n",
       "      <td>Vente</td>\n",
       "      <td></td>\n",
       "      <td>5</td>\n",
       "      <td>3</td>\n",
       "      <td>78.0</td>\n",
       "      <td>-1.0</td>\n",
       "      <td>158240.0</td>\n",
       "    </tr>\n",
       "    <tr>\n",
       "      <th>82</th>\n",
       "      <td>2016</td>\n",
       "      <td>SAINT-LAURENT-SUR-SAONE</td>\n",
       "      <td>Vente</td>\n",
       "      <td></td>\n",
       "      <td>1</td>\n",
       "      <td>2</td>\n",
       "      <td>55.0</td>\n",
       "      <td>-1.0</td>\n",
       "      <td>77000.0</td>\n",
       "    </tr>\n",
       "  </tbody>\n",
       "</table>\n",
       "</div>"
      ],
      "text/plain": [
       "    Date mutation                  Commune Nature mutation Nature culture  \\\n",
       "9            2016          BOURG-EN-BRESSE           Vente                  \n",
       "58           2016          BOURG-EN-BRESSE           Vente                  \n",
       "67           2016    SAINT-DENIS-LES-BOURG           Vente                  \n",
       "79           2016         NEUVILLE-SUR-AIN           Vente                  \n",
       "82           2016  SAINT-LAURENT-SUR-SAONE           Vente                  \n",
       "\n",
       "    Nombre de lots  Nombre pieces principales  Surface reelle bati  \\\n",
       "9                4                          2                 79.0   \n",
       "58               1                          5                133.0   \n",
       "67               2                          2                 42.0   \n",
       "79               5                          3                 78.0   \n",
       "82               1                          2                 55.0   \n",
       "\n",
       "    Surface terrain  Valeur fonciere  \n",
       "9              -1.0         111700.0  \n",
       "58             -1.0         311700.0  \n",
       "67             -1.0          65000.0  \n",
       "79             -1.0         158240.0  \n",
       "82             -1.0          77000.0  "
      ]
     },
     "execution_count": 5,
     "metadata": {},
     "output_type": "execute_result"
    }
   ],
   "source": [
    "big_data.head()"
   ]
  },
  {
   "cell_type": "code",
   "execution_count": 6,
   "metadata": {},
   "outputs": [
    {
     "data": {
      "text/html": [
       "<div>\n",
       "<style scoped>\n",
       "    .dataframe tbody tr th:only-of-type {\n",
       "        vertical-align: middle;\n",
       "    }\n",
       "\n",
       "    .dataframe tbody tr th {\n",
       "        vertical-align: top;\n",
       "    }\n",
       "\n",
       "    .dataframe thead th {\n",
       "        text-align: right;\n",
       "    }\n",
       "</style>\n",
       "<table border=\"1\" class=\"dataframe\">\n",
       "  <thead>\n",
       "    <tr style=\"text-align: right;\">\n",
       "      <th></th>\n",
       "      <th>Date mutation</th>\n",
       "      <th>Nombre de lots</th>\n",
       "      <th>Nombre pieces principales</th>\n",
       "      <th>Surface reelle bati</th>\n",
       "      <th>Surface terrain</th>\n",
       "      <th>Valeur fonciere</th>\n",
       "    </tr>\n",
       "  </thead>\n",
       "  <tbody>\n",
       "    <tr>\n",
       "      <th>count</th>\n",
       "      <td>2.835622e+06</td>\n",
       "      <td>2.835622e+06</td>\n",
       "      <td>2.835622e+06</td>\n",
       "      <td>2.835622e+06</td>\n",
       "      <td>2.835622e+06</td>\n",
       "      <td>2.835622e+06</td>\n",
       "    </tr>\n",
       "    <tr>\n",
       "      <th>mean</th>\n",
       "      <td>2.018364e+03</td>\n",
       "      <td>1.170345e+00</td>\n",
       "      <td>2.590810e+00</td>\n",
       "      <td>5.695084e+01</td>\n",
       "      <td>9.781821e+02</td>\n",
       "      <td>2.184380e+06</td>\n",
       "    </tr>\n",
       "    <tr>\n",
       "      <th>std</th>\n",
       "      <td>1.427267e+00</td>\n",
       "      <td>1.020591e+00</td>\n",
       "      <td>1.191713e+00</td>\n",
       "      <td>2.943501e+01</td>\n",
       "      <td>1.228858e+04</td>\n",
       "      <td>1.527559e+07</td>\n",
       "    </tr>\n",
       "    <tr>\n",
       "      <th>min</th>\n",
       "      <td>2.016000e+03</td>\n",
       "      <td>0.000000e+00</td>\n",
       "      <td>-1.000000e+00</td>\n",
       "      <td>-1.000000e+00</td>\n",
       "      <td>-1.000000e+00</td>\n",
       "      <td>-1.000000e+00</td>\n",
       "    </tr>\n",
       "    <tr>\n",
       "      <th>25%</th>\n",
       "      <td>2.017000e+03</td>\n",
       "      <td>1.000000e+00</td>\n",
       "      <td>2.000000e+00</td>\n",
       "      <td>3.700000e+01</td>\n",
       "      <td>-1.000000e+00</td>\n",
       "      <td>1.040000e+05</td>\n",
       "    </tr>\n",
       "    <tr>\n",
       "      <th>50%</th>\n",
       "      <td>2.018000e+03</td>\n",
       "      <td>1.000000e+00</td>\n",
       "      <td>3.000000e+00</td>\n",
       "      <td>5.500000e+01</td>\n",
       "      <td>-1.000000e+00</td>\n",
       "      <td>1.750000e+05</td>\n",
       "    </tr>\n",
       "    <tr>\n",
       "      <th>75%</th>\n",
       "      <td>2.019000e+03</td>\n",
       "      <td>2.000000e+00</td>\n",
       "      <td>3.000000e+00</td>\n",
       "      <td>7.100000e+01</td>\n",
       "      <td>-1.000000e+00</td>\n",
       "      <td>3.266000e+05</td>\n",
       "    </tr>\n",
       "    <tr>\n",
       "      <th>max</th>\n",
       "      <td>2.021000e+03</td>\n",
       "      <td>8.500000e+01</td>\n",
       "      <td>9.000000e+01</td>\n",
       "      <td>2.426000e+03</td>\n",
       "      <td>4.301668e+06</td>\n",
       "      <td>1.256966e+09</td>\n",
       "    </tr>\n",
       "  </tbody>\n",
       "</table>\n",
       "</div>"
      ],
      "text/plain": [
       "       Date mutation  Nombre de lots  Nombre pieces principales  \\\n",
       "count   2.835622e+06    2.835622e+06               2.835622e+06   \n",
       "mean    2.018364e+03    1.170345e+00               2.590810e+00   \n",
       "std     1.427267e+00    1.020591e+00               1.191713e+00   \n",
       "min     2.016000e+03    0.000000e+00              -1.000000e+00   \n",
       "25%     2.017000e+03    1.000000e+00               2.000000e+00   \n",
       "50%     2.018000e+03    1.000000e+00               3.000000e+00   \n",
       "75%     2.019000e+03    2.000000e+00               3.000000e+00   \n",
       "max     2.021000e+03    8.500000e+01               9.000000e+01   \n",
       "\n",
       "       Surface reelle bati  Surface terrain  Valeur fonciere  \n",
       "count         2.835622e+06     2.835622e+06     2.835622e+06  \n",
       "mean          5.695084e+01     9.781821e+02     2.184380e+06  \n",
       "std           2.943501e+01     1.228858e+04     1.527559e+07  \n",
       "min          -1.000000e+00    -1.000000e+00    -1.000000e+00  \n",
       "25%           3.700000e+01    -1.000000e+00     1.040000e+05  \n",
       "50%           5.500000e+01    -1.000000e+00     1.750000e+05  \n",
       "75%           7.100000e+01    -1.000000e+00     3.266000e+05  \n",
       "max           2.426000e+03     4.301668e+06     1.256966e+09  "
      ]
     },
     "execution_count": 6,
     "metadata": {},
     "output_type": "execute_result"
    }
   ],
   "source": [
    "big_data.describe()"
   ]
  },
  {
   "cell_type": "code",
   "execution_count": 7,
   "metadata": {},
   "outputs": [
    {
     "name": "stdout",
     "output_type": "stream",
     "text": [
      "Date mutation                  int16\n",
      "Commune                       string\n",
      "Nature mutation               string\n",
      "Nature culture                string\n",
      "Nombre de lots                  int8\n",
      "Nombre pieces principales       int8\n",
      "Surface reelle bati          float32\n",
      "Surface terrain              float32\n",
      "Valeur fonciere              float32\n",
      "dtype: object\n",
      "Nb de lignes : 2835622 , Nb de col : 9\n",
      "Nb de communes : 15829\n"
     ]
    }
   ],
   "source": [
    "print(big_data.dtypes)\n",
    "nb_rows, nb_cols = big_data.shape\n",
    "print('Nb de lignes :',nb_rows, ', Nb de col :', nb_cols)\n",
    "print('Nb de communes :', big_data[['Commune']].nunique().values[0])"
   ]
  },
  {
   "cell_type": "markdown",
   "metadata": {},
   "source": [
    "# Préparation du dataset"
   ]
  },
  {
   "cell_type": "code",
   "execution_count": 8,
   "metadata": {},
   "outputs": [
    {
     "data": {
      "text/html": [
       "<div>\n",
       "<style scoped>\n",
       "    .dataframe tbody tr th:only-of-type {\n",
       "        vertical-align: middle;\n",
       "    }\n",
       "\n",
       "    .dataframe tbody tr th {\n",
       "        vertical-align: top;\n",
       "    }\n",
       "\n",
       "    .dataframe thead th {\n",
       "        text-align: right;\n",
       "    }\n",
       "</style>\n",
       "<table border=\"1\" class=\"dataframe\">\n",
       "  <thead>\n",
       "    <tr style=\"text-align: right;\">\n",
       "      <th></th>\n",
       "      <th>Date mutation</th>\n",
       "      <th>Commune</th>\n",
       "      <th>Nature mutation</th>\n",
       "      <th>Nature culture</th>\n",
       "      <th>Nombre de lots</th>\n",
       "      <th>Nombre pieces principales</th>\n",
       "      <th>Surface reelle bati</th>\n",
       "      <th>Surface terrain</th>\n",
       "      <th>Valeur fonciere</th>\n",
       "    </tr>\n",
       "  </thead>\n",
       "  <tbody>\n",
       "    <tr>\n",
       "      <th>9</th>\n",
       "      <td>2016</td>\n",
       "      <td>1801</td>\n",
       "      <td>3</td>\n",
       "      <td>0</td>\n",
       "      <td>4</td>\n",
       "      <td>2</td>\n",
       "      <td>79.0</td>\n",
       "      <td>-1.0</td>\n",
       "      <td>111700.0</td>\n",
       "    </tr>\n",
       "    <tr>\n",
       "      <th>58</th>\n",
       "      <td>2016</td>\n",
       "      <td>1801</td>\n",
       "      <td>3</td>\n",
       "      <td>0</td>\n",
       "      <td>1</td>\n",
       "      <td>5</td>\n",
       "      <td>133.0</td>\n",
       "      <td>-1.0</td>\n",
       "      <td>311700.0</td>\n",
       "    </tr>\n",
       "    <tr>\n",
       "      <th>67</th>\n",
       "      <td>2016</td>\n",
       "      <td>12083</td>\n",
       "      <td>3</td>\n",
       "      <td>0</td>\n",
       "      <td>2</td>\n",
       "      <td>2</td>\n",
       "      <td>42.0</td>\n",
       "      <td>-1.0</td>\n",
       "      <td>65000.0</td>\n",
       "    </tr>\n",
       "    <tr>\n",
       "      <th>79</th>\n",
       "      <td>2016</td>\n",
       "      <td>9656</td>\n",
       "      <td>3</td>\n",
       "      <td>0</td>\n",
       "      <td>5</td>\n",
       "      <td>3</td>\n",
       "      <td>78.0</td>\n",
       "      <td>-1.0</td>\n",
       "      <td>158240.0</td>\n",
       "    </tr>\n",
       "    <tr>\n",
       "      <th>82</th>\n",
       "      <td>2016</td>\n",
       "      <td>12537</td>\n",
       "      <td>3</td>\n",
       "      <td>0</td>\n",
       "      <td>1</td>\n",
       "      <td>2</td>\n",
       "      <td>55.0</td>\n",
       "      <td>-1.0</td>\n",
       "      <td>77000.0</td>\n",
       "    </tr>\n",
       "  </tbody>\n",
       "</table>\n",
       "</div>"
      ],
      "text/plain": [
       "    Date mutation  Commune  Nature mutation  Nature culture  Nombre de lots  \\\n",
       "9            2016     1801                3               0               4   \n",
       "58           2016     1801                3               0               1   \n",
       "67           2016    12083                3               0               2   \n",
       "79           2016     9656                3               0               5   \n",
       "82           2016    12537                3               0               1   \n",
       "\n",
       "    Nombre pieces principales  Surface reelle bati  Surface terrain  \\\n",
       "9                           2                 79.0             -1.0   \n",
       "58                          5                133.0             -1.0   \n",
       "67                          2                 42.0             -1.0   \n",
       "79                          3                 78.0             -1.0   \n",
       "82                          2                 55.0             -1.0   \n",
       "\n",
       "    Valeur fonciere  \n",
       "9          111700.0  \n",
       "58         311700.0  \n",
       "67          65000.0  \n",
       "79         158240.0  \n",
       "82          77000.0  "
      ]
     },
     "execution_count": 8,
     "metadata": {},
     "output_type": "execute_result"
    }
   ],
   "source": [
    "list_le = [preprocessing.LabelEncoder()]*3\n",
    "data_set = big_data.copy()\n",
    "for col, le in zip(['Commune','Nature mutation','Nature culture'],list_le):\n",
    "    data_set[col] = le.fit_transform(data_set[col])\n",
    "data_set.head()"
   ]
  },
  {
   "cell_type": "code",
   "execution_count": 9,
   "metadata": {},
   "outputs": [],
   "source": [
    "def train_valid_teset_split (dataX, dataY,train_ratio = 0.8, validation_ratio = 0.1, test_ratio = 0.1):\n",
    "    x_train, x_test, y_train, y_test = train_test_split(dataX, dataY, test_size=1 - train_ratio, random_state=111)\n",
    "    x_val, x_test, y_val, y_test = train_test_split(x_test, y_test, test_size=test_ratio/(test_ratio + validation_ratio), random_state=111) \n",
    "\n",
    "    return x_train, x_val, x_test, y_train, y_val, y_test\n",
    "\n",
    "dataY, dataX = data_set.pop('Valeur fonciere'), data_set\n",
    "x_train, x_val, x_test, y_train, y_val, y_test = train_valid_teset_split (dataX, dataY)"
   ]
  },
  {
   "cell_type": "markdown",
   "metadata": {},
   "source": [
    "# Modèle de prédiction"
   ]
  },
  {
   "cell_type": "code",
   "execution_count": 10,
   "metadata": {},
   "outputs": [
    {
     "name": "stderr",
     "output_type": "stream",
     "text": [
      "[Parallel(n_jobs=-1)]: Using backend ThreadingBackend with 16 concurrent workers.\n",
      "[Parallel(n_jobs=-1)]: Done  18 tasks      | elapsed:   24.6s\n",
      "[Parallel(n_jobs=-1)]: Done 168 tasks      | elapsed:  2.3min\n",
      "[Parallel(n_jobs=-1)]: Done 418 tasks      | elapsed:  5.6min\n",
      "[Parallel(n_jobs=-1)]: Done 500 out of 500 | elapsed:  6.6min finished\n",
      "[Parallel(n_jobs=16)]: Using backend ThreadingBackend with 16 concurrent workers.\n",
      "[Parallel(n_jobs=16)]: Done  18 tasks      | elapsed:    3.7s\n",
      "[Parallel(n_jobs=16)]: Done 168 tasks      | elapsed:  4.1min\n",
      "[Parallel(n_jobs=16)]: Done 418 tasks      | elapsed: 12.9min\n",
      "[Parallel(n_jobs=16)]: Done 500 out of 500 | elapsed: 13.0min finished\n"
     ]
    },
    {
     "name": "stdout",
     "output_type": "stream",
     "text": [
      "0.7348662338803953\n"
     ]
    },
    {
     "name": "stderr",
     "output_type": "stream",
     "text": [
      "[Parallel(n_jobs=16)]: Using backend ThreadingBackend with 16 concurrent workers.\n",
      "[Parallel(n_jobs=16)]: Done  18 tasks      | elapsed:    6.8s\n",
      "[Parallel(n_jobs=16)]: Done 168 tasks      | elapsed:   49.4s\n",
      "[Parallel(n_jobs=16)]: Done 418 tasks      | elapsed:  2.4min\n"
     ]
    },
    {
     "name": "stdout",
     "output_type": "stream",
     "text": [
      "0.8939879968710149\n"
     ]
    },
    {
     "name": "stderr",
     "output_type": "stream",
     "text": [
      "[Parallel(n_jobs=16)]: Done 500 out of 500 | elapsed:  2.5min finished\n"
     ]
    }
   ],
   "source": [
    "rfr = RandomForestRegressor(n_estimators=500, criterion='mse', n_jobs=-1, random_state=111, max_samples=0.3, verbose=True) # max_depth=10, max_leaf_nodes=15829,\n",
    "rfr.fit(x_train, y_train)\n",
    "print(rfr.score(x_val, y_val))\n",
    "print(rfr.score(x_test, y_test))"
   ]
  },
  {
   "cell_type": "markdown",
   "metadata": {},
   "source": [
    "# Evaluation"
   ]
  },
  {
   "cell_type": "code",
   "execution_count": 12,
   "metadata": {},
   "outputs": [
    {
     "name": "stderr",
     "output_type": "stream",
     "text": [
      "[Parallel(n_jobs=16)]: Using backend ThreadingBackend with 16 concurrent workers.\n",
      "[Parallel(n_jobs=16)]: Done  18 tasks      | elapsed:    9.2s\n",
      "[Parallel(n_jobs=16)]: Done 168 tasks      | elapsed:   58.7s\n",
      "[Parallel(n_jobs=16)]: Done 418 tasks      | elapsed:  2.5min\n",
      "[Parallel(n_jobs=16)]: Done 500 out of 500 | elapsed:  2.9min finished\n"
     ]
    },
    {
     "data": {
      "text/plain": [
       "0.8880843081357028"
      ]
     },
     "execution_count": 12,
     "metadata": {},
     "output_type": "execute_result"
    }
   ],
   "source": [
    "rfr.score(x_train, y_train)"
   ]
  },
  {
   "cell_type": "code",
   "execution_count": 14,
   "metadata": {},
   "outputs": [
    {
     "name": "stderr",
     "output_type": "stream",
     "text": [
      "[Parallel(n_jobs=16)]: Using backend ThreadingBackend with 16 concurrent workers.\n",
      "[Parallel(n_jobs=16)]: Done  18 tasks      | elapsed:    0.0s\n",
      "[Parallel(n_jobs=16)]: Done 168 tasks      | elapsed:    0.0s\n",
      "[Parallel(n_jobs=16)]: Done 418 tasks      | elapsed:    0.1s\n",
      "[Parallel(n_jobs=16)]: Done 500 out of 500 | elapsed:    0.1s finished\n",
      "[Parallel(n_jobs=16)]: Using backend ThreadingBackend with 16 concurrent workers.\n"
     ]
    },
    {
     "name": "stdout",
     "output_type": "stream",
     "text": [
      "[192560.02133333]\n",
      "[180166.10619048]\n"
     ]
    },
    {
     "name": "stderr",
     "output_type": "stream",
     "text": [
      "[Parallel(n_jobs=16)]: Done  18 tasks      | elapsed:    0.0s\n",
      "[Parallel(n_jobs=16)]: Done 168 tasks      | elapsed:    0.0s\n",
      "[Parallel(n_jobs=16)]: Done 418 tasks      | elapsed:    0.0s\n",
      "[Parallel(n_jobs=16)]: Done 500 out of 500 | elapsed:    0.0s finished\n",
      "[Parallel(n_jobs=16)]: Using backend ThreadingBackend with 16 concurrent workers.\n",
      "[Parallel(n_jobs=16)]: Done  18 tasks      | elapsed:    0.0s\n",
      "[Parallel(n_jobs=16)]: Done 168 tasks      | elapsed:    0.0s\n",
      "[Parallel(n_jobs=16)]: Done 418 tasks      | elapsed:    0.0s\n",
      "[Parallel(n_jobs=16)]: Done 500 out of 500 | elapsed:    0.0s finished\n",
      "[Parallel(n_jobs=16)]: Using backend ThreadingBackend with 16 concurrent workers.\n",
      "[Parallel(n_jobs=16)]: Done  18 tasks      | elapsed:    0.0s\n",
      "[Parallel(n_jobs=16)]: Done 168 tasks      | elapsed:    0.0s\n",
      "[Parallel(n_jobs=16)]: Done 418 tasks      | elapsed:    0.0s\n",
      "[Parallel(n_jobs=16)]: Done 500 out of 500 | elapsed:    0.0s finished\n",
      "[Parallel(n_jobs=16)]: Using backend ThreadingBackend with 16 concurrent workers.\n",
      "[Parallel(n_jobs=16)]: Done  18 tasks      | elapsed:    0.0s\n"
     ]
    },
    {
     "name": "stdout",
     "output_type": "stream",
     "text": [
      "[182485.98353497]\n",
      "[164157.49842247]\n"
     ]
    },
    {
     "name": "stderr",
     "output_type": "stream",
     "text": [
      "[Parallel(n_jobs=16)]: Done 168 tasks      | elapsed:    0.0s\n"
     ]
    },
    {
     "name": "stdout",
     "output_type": "stream",
     "text": [
      "[172697.12608854]\n",
      "[171820.04123438]\n"
     ]
    },
    {
     "name": "stderr",
     "output_type": "stream",
     "text": [
      "[Parallel(n_jobs=16)]: Done 418 tasks      | elapsed:    1.2s\n",
      "[Parallel(n_jobs=16)]: Done 500 out of 500 | elapsed:    1.2s finished\n",
      "[Parallel(n_jobs=16)]: Using backend ThreadingBackend with 16 concurrent workers.\n",
      "[Parallel(n_jobs=16)]: Done  18 tasks      | elapsed:    0.0s\n",
      "[Parallel(n_jobs=16)]: Done 168 tasks      | elapsed:    0.0s\n",
      "[Parallel(n_jobs=16)]: Done 418 tasks      | elapsed:    0.0s\n",
      "[Parallel(n_jobs=16)]: Done 500 out of 500 | elapsed:    0.1s finished\n"
     ]
    }
   ],
   "source": [
    "for i in range(2016,2022):\n",
    "    columns_values = pd.DataFrame({\n",
    "        'Date mutation': [i],\n",
    "        'Commune': ['PARIS 08'],\n",
    "        'Nature mutation': ['Vente'],\n",
    "        'Nature culture': [''],\n",
    "        'Nombre de lots': [0],\n",
    "        'Nombre pieces principales': [1],\n",
    "        'Surface reelle bati':[ 14],\n",
    "        'Surface terrain': [28],\n",
    "        'Valeur fonciere': ['202000'],\n",
    "        })\n",
    "    for col, le in zip(['Commune','Nature mutation','Nature culture'],list_le):\n",
    "        columns_values[col] = le.fit_transform(columns_values[col])\n",
    "    Y, X = columns_values.pop('Valeur fonciere'), columns_values\n",
    "    print(rfr.predict(X))"
   ]
  },
  {
   "cell_type": "code",
   "execution_count": null,
   "metadata": {},
   "outputs": [],
   "source": []
  }
 ],
 "metadata": {
  "interpreter": {
   "hash": "3552b825e551c1b635478e46224b805bbcf108b43bf63b4d87d884f78905e0f4"
  },
  "kernelspec": {
   "display_name": "Python 3.8.10 64-bit ('TDK': conda)",
   "language": "python",
   "name": "python3"
  },
  "language_info": {
   "codemirror_mode": {
    "name": "ipython",
    "version": 3
   },
   "file_extension": ".py",
   "mimetype": "text/x-python",
   "name": "python",
   "nbconvert_exporter": "python",
   "pygments_lexer": "ipython3",
   "version": "3.8.10"
  },
  "orig_nbformat": 4
 },
 "nbformat": 4,
 "nbformat_minor": 2
}
